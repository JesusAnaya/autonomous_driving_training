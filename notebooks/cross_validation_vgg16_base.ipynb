{
 "cells": [
  {
   "cell_type": "code",
   "id": "016b93d2-c0ae-4f9c-bfd6-4bf302a27c0c",
   "metadata": {
    "executionInfo": {
     "elapsed": 222,
     "status": "ok",
     "timestamp": 1712390910851,
     "user": {
      "displayName": "Jesus Armando Anaya",
      "userId": "10837992074590593370"
     },
     "user_tz": 420
    },
    "id": "016b93d2-c0ae-4f9c-bfd6-4bf302a27c0c",
    "ExecuteTime": {
     "end_time": "2024-04-19T22:03:12.404639Z",
     "start_time": "2024-04-19T22:03:12.401566Z"
    }
   },
   "source": [
    "import os\n",
    "os.environ['TF_CPP_MIN_LOG_LEVEL'] = '3'"
   ],
   "outputs": [],
   "execution_count": 1
  },
  {
   "cell_type": "code",
   "id": "8a0a6718-a28b-42ca-9656-884c3a31460a",
   "metadata": {
    "executionInfo": {
     "elapsed": 3389,
     "status": "ok",
     "timestamp": 1712390914449,
     "user": {
      "displayName": "Jesus Armando Anaya",
      "userId": "10837992074590593370"
     },
     "user_tz": 420
    },
    "id": "8a0a6718-a28b-42ca-9656-884c3a31460a",
    "ExecuteTime": {
     "end_time": "2024-04-19T22:03:13.780641Z",
     "start_time": "2024-04-19T22:03:12.415452Z"
    }
   },
   "source": [
    "import tensorflow as tf\n",
    "from tensorflow.keras import layers, models\n",
    "from tensorflow.keras.applications import VGG16\n",
    "import numpy as np\n",
    "import IPython.display as display\n",
    "from functools import partial\n",
    "import matplotlib.pyplot as plt\n",
    "import glob\n",
    "import zipfile\n",
    "from PIL import Image, ImageDraw\n",
    "from datetime import datetime\n",
    "from sklearn.model_selection import KFold\n",
    "import random"
   ],
   "outputs": [],
   "execution_count": 2
  },
  {
   "cell_type": "code",
   "id": "b1dcc786-7988-493e-ac97-4aff35cddd08",
   "metadata": {
    "ExecuteTime": {
     "end_time": "2024-04-19T22:03:13.783260Z",
     "start_time": "2024-04-19T22:03:13.781434Z"
    }
   },
   "source": [
    "is_colab = False\n",
    "batch_size = 40"
   ],
   "outputs": [],
   "execution_count": 3
  },
  {
   "cell_type": "code",
   "id": "fed89e8b6aeb01dc",
   "metadata": {
    "ExecuteTime": {
     "end_time": "2024-04-19T22:03:13.816999Z",
     "start_time": "2024-04-19T22:03:13.783753Z"
    }
   },
   "source": [
    "tf.random.set_seed(0)\n",
    "random.seed(0)\n"
   ],
   "outputs": [],
   "execution_count": 4
  },
  {
   "cell_type": "code",
   "id": "7f23393c-24d3-4bc4-a0db-f18b200765a5",
   "metadata": {
    "colab": {
     "base_uri": "https://localhost:8080/"
    },
    "executionInfo": {
     "elapsed": 5,
     "status": "ok",
     "timestamp": 1712390914837,
     "user": {
      "displayName": "Jesus Armando Anaya",
      "userId": "10837992074590593370"
     },
     "user_tz": 420
    },
    "id": "7f23393c-24d3-4bc4-a0db-f18b200765a5",
    "outputId": "2cddf7e4-7d94-4da9-df2a-b6e7bfb35c59",
    "ExecuteTime": {
     "end_time": "2024-04-19T22:03:13.913520Z",
     "start_time": "2024-04-19T22:03:13.817920Z"
    }
   },
   "source": [
    "print(\"Num GPUs Available: \", len(tf.config.list_physical_devices('GPU')))\n",
    "print(\"TensorFlow version: \", tf.__version__)"
   ],
   "outputs": [
    {
     "name": "stdout",
     "output_type": "stream",
     "text": [
      "Num GPUs Available:  1\n",
      "TensorFlow version:  2.15.0\n"
     ]
    }
   ],
   "execution_count": 5
  },
  {
   "cell_type": "code",
   "id": "91112d1d-bc33-494c-abe6-be815995e836",
   "metadata": {
    "executionInfo": {
     "elapsed": 4,
     "status": "ok",
     "timestamp": 1712390914837,
     "user": {
      "displayName": "Jesus Armando Anaya",
      "userId": "10837992074590593370"
     },
     "user_tz": 420
    },
    "id": "91112d1d-bc33-494c-abe6-be815995e836",
    "ExecuteTime": {
     "end_time": "2024-04-19T22:03:13.938073Z",
     "start_time": "2024-04-19T22:03:13.914128Z"
    }
   },
   "source": [
    "def parse_tfrecord_fn(example_proto):\n",
    "    # Define the feature description for parsing\n",
    "    feature_description = {\n",
    "        'image': tf.io.FixedLenFeature([], tf.string),\n",
    "        'steering': tf.io.FixedLenFeature([], tf.float32),\n",
    "    }\n",
    "\n",
    "    parsed_features = tf.io.parse_single_example(example_proto, feature_description)\n",
    "    image = tf.image.decode_jpeg(parsed_features['image'], channels=3)\n",
    "    steering = parsed_features['steering']\n",
    "    image = tf.cast(image, tf.float32)\n",
    "    # Add random brightness change as data augmentation\n",
    "    # if random.random() > 0.5:\n",
    "    #     image = tf.image.random_brightness(image, 0.5)\n",
    "    # \n",
    "    image = tf.image.resize(image, (224, 224))\n",
    "    image = image / 255.0\n",
    "    \n",
    "    # round steering to 4 decimal places in tensor\n",
    "    \n",
    "    return image, steering\n"
   ],
   "outputs": [],
   "execution_count": 6
  },
  {
   "cell_type": "code",
   "id": "4a83ec71-287b-43e9-ba84-9c0aa19957fe",
   "metadata": {
    "executionInfo": {
     "elapsed": 4,
     "status": "ok",
     "timestamp": 1712390914837,
     "user": {
      "displayName": "Jesus Armando Anaya",
      "userId": "10837992074590593370"
     },
     "user_tz": 420
    },
    "id": "4a83ec71-287b-43e9-ba84-9c0aa19957fe",
    "ExecuteTime": {
     "end_time": "2024-04-19T22:03:13.963160Z",
     "start_time": "2024-04-19T22:03:13.938648Z"
    }
   },
   "source": [
    "def load_dataset(tfrecord_files):\n",
    "    raw_dataset = tf.data.TFRecordDataset(tfrecord_files)\n",
    "    return raw_dataset.map(parse_tfrecord_fn)"
   ],
   "outputs": [],
   "execution_count": 7
  },
  {
   "cell_type": "code",
   "id": "et51X-H4cfbz",
   "metadata": {
    "colab": {
     "base_uri": "https://localhost:8080/"
    },
    "executionInfo": {
     "elapsed": 22112,
     "status": "ok",
     "timestamp": 1712390937832,
     "user": {
      "displayName": "Jesus Armando Anaya",
      "userId": "10837992074590593370"
     },
     "user_tz": 420
    },
    "id": "et51X-H4cfbz",
    "outputId": "efbadb09-3d11-4a1d-e28c-a2d9354a3bdb",
    "ExecuteTime": {
     "end_time": "2024-04-19T22:03:13.988629Z",
     "start_time": "2024-04-19T22:03:13.963889Z"
    }
   },
   "source": [
    "if is_colab:\n",
    "    from google.colab import drive\n",
    "    drive.mount('/content/drive')\n",
    "\n",
    "    if not os.path.exists(\"datasets\"):\n",
    "        os.makedirs(\"datasets\")\n",
    "    \n",
    "    path_to_zip_file = \"/content/drive/MyDrive/Colab Notebooks/AD/datasets/dataset_2024-04-0.zip\"\n",
    "    with zipfile.ZipFile(path_to_zip_file, 'r') as zip_ref:\n",
    "        zip_ref.extractall(\"./datasets\")\n",
    "\n",
    "    tfrecord_files = list(glob.glob(\"./datasets/*.tfrecord\"))\n",
    "else:\n",
    "    tfrecord_files = list(glob.glob(\"/home/anaya/Develop/autonomous_driving_training/datasets/*.tfrecord\"))"
   ],
   "outputs": [],
   "execution_count": 8
  },
  {
   "cell_type": "code",
   "id": "569ed786e2a3ea99",
   "metadata": {
    "ExecuteTime": {
     "end_time": "2024-04-19T22:03:14.014011Z",
     "start_time": "2024-04-19T22:03:13.989555Z"
    }
   },
   "source": [
    "def get_model():\n",
    "    base_model = VGG16(weights=\"imagenet\", include_top=False, input_shape=(224, 224, 3))\n",
    "    base_model.trainable = False\n",
    "    \n",
    "    return tf.keras.Sequential([\n",
    "        base_model,\n",
    "        # Flatten the output to feed into the dense layers\n",
    "        layers.Flatten(),\n",
    "        layers.Dropout(0.5),\n",
    "    \n",
    "        # Second fully connected layer\n",
    "        layers.Dense(100, activation='relu'),\n",
    "        layers.BatchNormalization(),\n",
    "    \n",
    "        # Third fully connected layer\n",
    "        layers.Dense(50, activation='relu'),\n",
    "        layers.BatchNormalization(),\n",
    "    \n",
    "        # Fourth fully connected layer\n",
    "        layers.Dense(10, activation='relu'),\n",
    "    \n",
    "        # Output layer\n",
    "        layers.Dense(1)\n",
    "    ])"
   ],
   "outputs": [],
   "execution_count": 9
  },
  {
   "cell_type": "code",
   "id": "0cb9d87c-a872-4e94-87e4-140025763167",
   "metadata": {
    "executionInfo": {
     "elapsed": 73729,
     "status": "ok",
     "timestamp": 1712391025239,
     "user": {
      "displayName": "Jesus Armando Anaya",
      "userId": "10837992074590593370"
     },
     "user_tz": 420
    },
    "id": "0cb9d87c-a872-4e94-87e4-140025763167",
    "ExecuteTime": {
     "end_time": "2024-04-19T22:03:19.242954Z",
     "start_time": "2024-04-19T22:03:14.014781Z"
    }
   },
   "source": [
    "parsed_dataset = load_dataset(tfrecord_files)\n",
    "shuffled_dataset = parsed_dataset.shuffle(2040)\n",
    "\n",
    "# Determine split sizes\n",
    "total_items = sum([1 for _ in shuffled_dataset.as_numpy_iterator()])\n",
    "\n",
    "num_folds = 4\n",
    "fold_size = total_items // num_folds"
   ],
   "outputs": [],
   "execution_count": 10
  },
  {
   "cell_type": "code",
   "id": "3494288b50d41039",
   "metadata": {
    "colab": {
     "base_uri": "https://localhost:8080/"
    },
    "executionInfo": {
     "elapsed": 21,
     "status": "ok",
     "timestamp": 1712391025239,
     "user": {
      "displayName": "Jesus Armando Anaya",
      "userId": "10837992074590593370"
     },
     "user_tz": 420
    },
    "id": "3494288b50d41039",
    "outputId": "917c543f-c444-4898-b482-c3e69b0e881d",
    "ExecuteTime": {
     "end_time": "2024-04-19T22:03:19.246025Z",
     "start_time": "2024-04-19T22:03:19.244200Z"
    }
   },
   "source": [
    "print(\"Total items: \", total_items)\n",
    "print(\"Fold size: \", fold_size)\n",
    "print(\"Number of folds: \", num_folds)"
   ],
   "outputs": [
    {
     "name": "stdout",
     "output_type": "stream",
     "text": [
      "Total items:  59514\n",
      "Fold size:  14878\n",
      "Number of folds:  4\n"
     ]
    }
   ],
   "execution_count": 11
  },
  {
   "cell_type": "code",
   "id": "1ac24967b8507931",
   "metadata": {
    "ExecuteTime": {
     "end_time": "2024-04-19T22:03:19.286456Z",
     "start_time": "2024-04-19T22:03:19.246657Z"
    }
   },
   "source": [
    "# NOTE - Restart experiment from here\n",
    "tf.random.set_seed(0)\n",
    "random.seed(0)\n",
    "\n",
    "# Create an array of datasets for each fold\n",
    "datasets_for_fold = []\n",
    "\n",
    "for i in range(num_folds):\n",
    "    start = i * fold_size\n",
    "    datasets_for_fold.append(\n",
    "        shuffled_dataset.skip(start).take(fold_size)\n",
    "    )\n",
    "\n"
   ],
   "outputs": [],
   "execution_count": 12
  },
  {
   "cell_type": "code",
   "id": "80ec2e72993dc7fb",
   "metadata": {
    "executionInfo": {
     "elapsed": 2,
     "status": "ok",
     "timestamp": 1712396065932,
     "user": {
      "displayName": "Jesus Armando Anaya",
      "userId": "10837992074590593370"
     },
     "user_tz": 420
    },
    "id": "80ec2e72993dc7fb",
    "ExecuteTime": {
     "end_time": "2024-04-19T22:03:19.320249Z",
     "start_time": "2024-04-19T22:03:19.287213Z"
    }
   },
   "source": [
    "log_dir = \"./logs/cv/\" + datetime.now().strftime(\"%Y%m%d-%H%M%S\")\n",
    "\n",
    "# Only add the loss to the tensorboard callback\n",
    "tensorboard_callback = tf.keras.callbacks.TensorBoard(log_dir=log_dir, histogram_freq=1, write_graph=True, write_images=True, update_freq='epoch', profile_batch=2, embeddings_freq=1)"
   ],
   "outputs": [],
   "execution_count": 13
  },
  {
   "metadata": {
    "ExecuteTime": {
     "end_time": "2024-04-19T22:03:19.335763Z",
     "start_time": "2024-04-19T22:03:19.321236Z"
    }
   },
   "cell_type": "code",
   "source": [
    "experiments = {\n",
    "    # \"experiment_1\": {\n",
    "    #     \"learning_rate\": 1e-4,\n",
    "    #     \"weight_decay\": 1e-4,\n",
    "    #     \"scheduler\": \"constant\",\n",
    "    #     \"optimizer\": \"adam\"\n",
    "    # },\n",
    "    # \"experiment_2\": {\n",
    "    #     \"learning_rate\": 1e-4,\n",
    "    #     \"weight_decay\": 1e-5,\n",
    "    #     \"scheduler\": \"constant\",\n",
    "    #     \"optimizer\": \"adam\"\n",
    "    # },\n",
    "    # \"experiment_3\": {\n",
    "    #     \"learning_rate\": 1e-4,\n",
    "    #     \"weight_decay\": 1e-4,\n",
    "    #     \"scheduler\": \"step\",\n",
    "    #     \"optimizer\": \"adam\"\n",
    "    # },\n",
    "    # \"experiment_4\": {\n",
    "    #     \"learning_rate\": 1e-3,\n",
    "    #     \"weight_decay\": 1e-3,\n",
    "    #     \"scheduler\": \"constant\",\n",
    "    #     \"optimizer\": \"adam\"\n",
    "    # },\n",
    "    # \"experiment_5\": {\n",
    "    #     \"learning_rate\": 1e-3,\n",
    "    #     \"weight_decay\": 1e-4,\n",
    "    #     \"scheduler\": \"constant\",\n",
    "    #     \"optimizer\": \"adam\"\n",
    "    # },\n",
    "    \"experiment_6\": {\n",
    "        \"learning_rate\": 1e-3,\n",
    "        \"weight_decay\": 1e-3,\n",
    "        \"scheduler\": \"step\",\n",
    "        \"scheduler_steps\": 5,\n",
    "        \"scheduler_alpha\": 0.1,\n",
    "        \"optimizer\": \"adam\"\n",
    "    },\n",
    "    \"experiment_7\": {\n",
    "        \"learning_rate\": 1e-3,\n",
    "        \"weight_decay\": 1e-4,\n",
    "        \"scheduler\": \"step\",\n",
    "        \"scheduler_steps\": 5,\n",
    "        \"scheduler_alpha\": 0.1,\n",
    "        \"optimizer\": \"adam\"\n",
    "    },\n",
    "    # \"experiment_5\": {\n",
    "    #     \"learning_rate\": 1e-5,\n",
    "    #     \"weight_decay\": 1e-6,\n",
    "    #     \"scheduler\": \"constant\",\n",
    "    #     \"optimizer\": \"adam\"\n",
    "    # },\n",
    "    # \"experiment_5\": {\n",
    "    #     \"learning_rate\": 1e-4,\n",
    "    #     \"weight_decay\": 1e-4,\n",
    "    #     \"scheduler\": \"step\",\n",
    "    #     \"optimizer\": \"adam\"\n",
    "    # },\n",
    "    # \"experiment_6\": {\n",
    "    #     \"learning_rate\": 1e-4,\n",
    "    #     \"weight_decay\": 1e-5,\n",
    "    #     \"scheduler\": \"step\",\n",
    "    #     \"optimizer\": \"adam\"\n",
    "    # },\n",
    "    # \"experiment_7\": {\n",
    "    #     \"learning_rate\": 1e-5,\n",
    "    #     \"weight_decay\": 1e-5,\n",
    "    #     \"scheduler\": \"step\",\n",
    "    #     \"optimizer\": \"sgd\"\n",
    "    # },\n",
    "    # \"experiment_8\": {\n",
    "    #     \"learning_rate\": 1e-5,\n",
    "    #     \"weight_decay\": 1e-5,\n",
    "    #     \"scheduler\": \"step\",\n",
    "    #     \"optimizer\": \"adam\"\n",
    "    # },\n",
    "    \n",
    "}"
   ],
   "id": "4719ebd03d57e484",
   "outputs": [],
   "execution_count": 14
  },
  {
   "metadata": {
    "ExecuteTime": {
     "end_time": "2024-04-19T22:03:19.364491Z",
     "start_time": "2024-04-19T22:03:19.336627Z"
    }
   },
   "cell_type": "code",
   "source": [
    "def meta_scheduler(steps, alpha=0.1):\n",
    "    def scheduler(epoch, lr):\n",
    "        if isinstance(steps, int):\n",
    "            if epoch % steps == 0 and epoch != 0:\n",
    "                return lr * alpha\n",
    "            else:\n",
    "                return lr\n",
    "        elif isinstance(steps, list):\n",
    "            if epoch in steps:\n",
    "                return lr * alpha\n",
    "            else:\n",
    "                return lr\n",
    "        else:\n",
    "            raise ValueError(\"Invalid steps parameter\")\n",
    "    return scheduler"
   ],
   "id": "5b416a086a1fb05",
   "outputs": [],
   "execution_count": 15
  },
  {
   "metadata": {
    "ExecuteTime": {
     "end_time": "2024-04-19T22:03:19.389813Z",
     "start_time": "2024-04-19T22:03:19.366235Z"
    }
   },
   "cell_type": "code",
   "source": [
    "from tensorflow.keras import backend as K\n",
    "\n",
    "def steering_accuracy(threshold=0.05):\n",
    "    def SA(y_true, y_pred):\n",
    "        return K.mean(K.cast(K.less_equal(K.abs(y_true - y_pred), threshold), K.floatx()))\n",
    "    return SA"
   ],
   "id": "7553a18453e736ef",
   "outputs": [],
   "execution_count": 16
  },
  {
   "metadata": {
    "ExecuteTime": {
     "end_time": "2024-04-19T22:03:19.417857Z",
     "start_time": "2024-04-19T22:03:19.391616Z"
    }
   },
   "cell_type": "code",
   "source": [
    "# Use experimental.sample_from_datasets to approximate K-Fold\n",
    "\n",
    "def run_cross_validation(experiment_name: str, experiment_params: dict, batch_size: int = 64):\n",
    "    for i in range(num_folds):\n",
    "        tf.random.set_seed(0)\n",
    "        random.seed(0)\n",
    "    \n",
    "        train_datasets = [ds for j, ds in enumerate(datasets_for_fold) if j != i]\n",
    "         # Concatenate the datasets\n",
    "        train_dataset = train_datasets[0]\n",
    "        for ds in train_datasets[1:]:\n",
    "            train_dataset = train_dataset.concatenate(ds)\n",
    "        \n",
    "        # Validation dataset\n",
    "        val_dataset = datasets_for_fold[i]\n",
    "        \n",
    "        model = get_model()\n",
    "        \n",
    "        # Compile the model (make sure to specify the loss and optimizer)\n",
    "        adam_optimizer = tf.keras.optimizers.Adam(\n",
    "            learning_rate=experiment_params[\"learning_rate\"],\n",
    "            weight_decay=experiment_params[\"weight_decay\"]\n",
    "        )\n",
    "        sgd_optimizer = tf.keras.optimizers.SGD(\n",
    "            learning_rate=experiment_params[\"learning_rate\"],\n",
    "            weight_decay=experiment_params[\"weight_decay\"],\n",
    "            momentum=0.9\n",
    "        )\n",
    "        \n",
    "        if experiment_params[\"optimizer\"] == \"adam\":\n",
    "            optimizer = adam_optimizer\n",
    "        elif experiment_params[\"optimizer\"] == \"sgd\":\n",
    "            optimizer = sgd_optimizer\n",
    "        else:\n",
    "            raise ValueError(\"Invalid optimizer\")\n",
    "        \n",
    "        model.compile(\n",
    "            optimizer=optimizer,\n",
    "            loss=tf.keras.losses.MeanSquaredError(),\n",
    "            metrics=[steering_accuracy(threshold=0.05)],\n",
    "        )\n",
    "        \n",
    "        train_early_stopping = tf.keras.callbacks.EarlyStopping(monitor='loss', patience=4, min_delta=0.0005)\n",
    "        val_early_stopping = tf.keras.callbacks.EarlyStopping(monitor='val_loss', patience=4, min_delta=0.0005)\n",
    "        callbacks_list = [tensorboard_callback, train_early_stopping, val_early_stopping]\n",
    "        \n",
    "        # Adding scheduler\n",
    "        if experiment_params[\"scheduler\"] == \"step\":\n",
    "            callback_lr_scheduler = tf.keras.callbacks.LearningRateScheduler(\n",
    "                meta_scheduler(\n",
    "                    steps=experiment_params[\"scheduler_steps\"],\n",
    "                    alpha=experiment_params[\"scheduler_alpha\"]\n",
    "                )\n",
    "            )\n",
    "            callbacks_list.append(callback_lr_scheduler)\n",
    "    \n",
    "        # Fit the model, add fold number as suffix to the log directory\n",
    "        print(f\"Cross-validation: {experiment_name} on fold {i + 1}\")\n",
    "        print(\"Params: \", experiment_params)\n",
    "        tensorboard_callback.log_dir = log_dir + f\"/{experiment_name}/fold_{i + 1}\"\n",
    "\n",
    "        model.fit(\n",
    "            train_dataset.batch(batch_size, drop_remainder=True).prefetch(tf.data.AUTOTUNE),\n",
    "            validation_data=val_dataset.batch(batch_size, drop_remainder=True).prefetch(tf.data.AUTOTUNE),\n",
    "            callbacks=callbacks_list,\n",
    "            epochs=30\n",
    "        )\n",
    "       \n"
   ],
   "id": "a13db56a65d1ebb3",
   "outputs": [],
   "execution_count": 17
  },
  {
   "metadata": {
    "ExecuteTime": {
     "end_time": "2024-04-19T23:07:32.419511Z",
     "start_time": "2024-04-19T22:03:19.419364Z"
    }
   },
   "cell_type": "code",
   "source": [
    "for experiment_name, experiment_params in experiments.items():\n",
    "    run_cross_validation(experiment_name, experiment_params, batch_size=batch_size)\n"
   ],
   "id": "d1742daeb26d511a",
   "outputs": [
    {
     "name": "stdout",
     "output_type": "stream",
     "text": [
      "Cross-validation: experiment_6 on fold 1\n",
      "Params:  {'learning_rate': 0.001, 'weight_decay': 0.001, 'scheduler': 'step', 'scheduler_steps': 5, 'scheduler_alpha': 0.1, 'optimizer': 'adam'}\n",
      "Epoch 1/30\n"
     ]
    },
    {
     "name": "stderr",
     "output_type": "stream",
     "text": [
      "WARNING: All log messages before absl::InitializeLog() is called are written to STDERR\n",
      "I0000 00:00:1713564205.009246  327588 device_compiler.h:186] Compiled cluster using XLA!  This line is logged at most once for the lifetime of the process.\n"
     ]
    },
    {
     "name": "stdout",
     "output_type": "stream",
     "text": [
      "1115/1115 [==============================] - 108s 92ms/step - loss: 0.0671 - SA: 0.2777 - val_loss: 0.0468 - val_SA: 0.2621 - lr: 0.0010\n",
      "Epoch 2/30\n",
      "1115/1115 [==============================] - 103s 92ms/step - loss: 0.0165 - SA: 0.4304 - val_loss: 0.0345 - val_SA: 0.3025 - lr: 0.0010\n",
      "Epoch 3/30\n",
      "1115/1115 [==============================] - 103s 92ms/step - loss: 0.0118 - SA: 0.4910 - val_loss: 0.0262 - val_SA: 0.3517 - lr: 0.0010\n",
      "Epoch 4/30\n",
      "1115/1115 [==============================] - 103s 92ms/step - loss: 0.0098 - SA: 0.5253 - val_loss: 0.0258 - val_SA: 0.3945 - lr: 0.0010\n",
      "Epoch 5/30\n",
      "1115/1115 [==============================] - 103s 92ms/step - loss: 0.0089 - SA: 0.5380 - val_loss: 0.0245 - val_SA: 0.3922 - lr: 0.0010\n",
      "Epoch 6/30\n",
      "1115/1115 [==============================] - 103s 92ms/step - loss: 0.0095 - SA: 0.5257 - val_loss: 0.0204 - val_SA: 0.4580 - lr: 1.0000e-04\n",
      "Epoch 7/30\n",
      "1115/1115 [==============================] - 103s 92ms/step - loss: 0.0078 - SA: 0.5533 - val_loss: 0.0188 - val_SA: 0.4587 - lr: 1.0000e-04\n",
      "Epoch 8/30\n",
      "1115/1115 [==============================] - 103s 92ms/step - loss: 0.0071 - SA: 0.5721 - val_loss: 0.0173 - val_SA: 0.4768 - lr: 1.0000e-04\n",
      "Epoch 9/30\n",
      "1115/1115 [==============================] - 103s 92ms/step - loss: 0.0068 - SA: 0.5807 - val_loss: 0.0176 - val_SA: 0.4681 - lr: 1.0000e-04\n",
      "Epoch 10/30\n",
      "1115/1115 [==============================] - 103s 92ms/step - loss: 0.0064 - SA: 0.5923 - val_loss: 0.0167 - val_SA: 0.4670 - lr: 1.0000e-04\n",
      "Epoch 11/30\n",
      "1115/1115 [==============================] - 103s 92ms/step - loss: 0.0066 - SA: 0.5752 - val_loss: 0.0159 - val_SA: 0.4740 - lr: 1.0000e-05\n",
      "Epoch 12/30\n",
      "1115/1115 [==============================] - 103s 92ms/step - loss: 0.0063 - SA: 0.5852 - val_loss: 0.0154 - val_SA: 0.4730 - lr: 1.0000e-05\n",
      "Epoch 13/30\n",
      "1115/1115 [==============================] - 103s 92ms/step - loss: 0.0061 - SA: 0.5967 - val_loss: 0.0152 - val_SA: 0.4729 - lr: 1.0000e-05\n",
      "Epoch 14/30\n",
      "1115/1115 [==============================] - 103s 92ms/step - loss: 0.0058 - SA: 0.5985 - val_loss: 0.0148 - val_SA: 0.4832 - lr: 1.0000e-05\n",
      "Epoch 15/30\n",
      "1115/1115 [==============================] - 103s 92ms/step - loss: 0.0059 - SA: 0.6030 - val_loss: 0.0146 - val_SA: 0.4832 - lr: 1.0000e-05\n",
      "Epoch 16/30\n",
      "1115/1115 [==============================] - 103s 92ms/step - loss: 0.0059 - SA: 0.5991 - val_loss: 0.0147 - val_SA: 0.4840 - lr: 1.0000e-06\n",
      "Epoch 17/30\n",
      "1115/1115 [==============================] - 103s 92ms/step - loss: 0.0059 - SA: 0.6020 - val_loss: 0.0147 - val_SA: 0.4852 - lr: 1.0000e-06\n",
      "Epoch 18/30\n",
      "1115/1115 [==============================] - 103s 92ms/step - loss: 0.0057 - SA: 0.6037 - val_loss: 0.0147 - val_SA: 0.4837 - lr: 1.0000e-06\n",
      "Cross-validation: experiment_6 on fold 2\n",
      "Params:  {'learning_rate': 0.001, 'weight_decay': 0.001, 'scheduler': 'step', 'scheduler_steps': 5, 'scheduler_alpha': 0.1, 'optimizer': 'adam'}\n",
      "Epoch 1/30\n",
      "1115/1115 [==============================] - 104s 93ms/step - loss: 0.0631 - SA: 0.2791 - val_loss: 0.0463 - val_SA: 0.2536 - lr: 0.0010\n",
      "Epoch 2/30\n",
      "1115/1115 [==============================] - 103s 92ms/step - loss: 0.0139 - SA: 0.4399 - val_loss: 0.0351 - val_SA: 0.2687 - lr: 0.0010\n",
      "Epoch 3/30\n",
      "1115/1115 [==============================] - 103s 92ms/step - loss: 0.0105 - SA: 0.4976 - val_loss: 0.0284 - val_SA: 0.3488 - lr: 0.0010\n",
      "Epoch 4/30\n",
      "1115/1115 [==============================] - 103s 92ms/step - loss: 0.0089 - SA: 0.5413 - val_loss: 0.0293 - val_SA: 0.3026 - lr: 0.0010\n",
      "Epoch 5/30\n",
      "1115/1115 [==============================] - 103s 92ms/step - loss: 0.0079 - SA: 0.5657 - val_loss: 0.0228 - val_SA: 0.3949 - lr: 0.0010\n",
      "Epoch 6/30\n",
      "1115/1115 [==============================] - 103s 92ms/step - loss: 0.0078 - SA: 0.5615 - val_loss: 0.0217 - val_SA: 0.3989 - lr: 1.0000e-04\n",
      "Epoch 7/30\n",
      "1115/1115 [==============================] - 103s 92ms/step - loss: 0.0066 - SA: 0.5921 - val_loss: 0.0183 - val_SA: 0.4180 - lr: 1.0000e-04\n",
      "Epoch 8/30\n",
      "1115/1115 [==============================] - 103s 92ms/step - loss: 0.0063 - SA: 0.6033 - val_loss: 0.0178 - val_SA: 0.4255 - lr: 1.0000e-04\n",
      "Epoch 9/30\n",
      "1115/1115 [==============================] - 103s 92ms/step - loss: 0.0059 - SA: 0.6133 - val_loss: 0.0186 - val_SA: 0.4302 - lr: 1.0000e-04\n",
      "Epoch 10/30\n",
      "1115/1115 [==============================] - 103s 92ms/step - loss: 0.0056 - SA: 0.6232 - val_loss: 0.0167 - val_SA: 0.4451 - lr: 1.0000e-04\n",
      "Epoch 11/30\n",
      "1115/1115 [==============================] - 103s 92ms/step - loss: 0.0059 - SA: 0.6101 - val_loss: 0.0165 - val_SA: 0.4641 - lr: 1.0000e-05\n",
      "Epoch 12/30\n",
      "1115/1115 [==============================] - 103s 92ms/step - loss: 0.0055 - SA: 0.6221 - val_loss: 0.0161 - val_SA: 0.4737 - lr: 1.0000e-05\n",
      "Epoch 13/30\n",
      "1115/1115 [==============================] - 103s 92ms/step - loss: 0.0054 - SA: 0.6234 - val_loss: 0.0161 - val_SA: 0.4735 - lr: 1.0000e-05\n",
      "Cross-validation: experiment_6 on fold 3\n",
      "Params:  {'learning_rate': 0.001, 'weight_decay': 0.001, 'scheduler': 'step', 'scheduler_steps': 5, 'scheduler_alpha': 0.1, 'optimizer': 'adam'}\n",
      "Epoch 1/30\n",
      "1115/1115 [==============================] - 104s 92ms/step - loss: 0.0635 - SA: 0.2727 - val_loss: 0.0154 - val_SA: 0.4486 - lr: 0.0010\n",
      "Epoch 2/30\n",
      "1115/1115 [==============================] - 103s 92ms/step - loss: 0.0154 - SA: 0.4303 - val_loss: 0.0174 - val_SA: 0.4370 - lr: 0.0010\n",
      "Epoch 3/30\n",
      "1115/1115 [==============================] - 103s 92ms/step - loss: 0.0113 - SA: 0.4929 - val_loss: 0.0159 - val_SA: 0.4414 - lr: 0.0010\n",
      "Epoch 4/30\n",
      "1115/1115 [==============================] - 103s 92ms/step - loss: 0.0092 - SA: 0.5377 - val_loss: 0.0146 - val_SA: 0.4961 - lr: 0.0010\n",
      "Epoch 5/30\n",
      "1115/1115 [==============================] - 103s 92ms/step - loss: 0.0083 - SA: 0.5630 - val_loss: 0.0132 - val_SA: 0.4854 - lr: 0.0010\n",
      "Epoch 6/30\n",
      "1115/1115 [==============================] - 103s 92ms/step - loss: 0.0086 - SA: 0.5520 - val_loss: 0.0110 - val_SA: 0.5480 - lr: 1.0000e-04\n",
      "Epoch 7/30\n",
      " 539/1115 [=============>................] - ETA: 39s - loss: 0.0070 - SA: 0.5834"
     ]
    },
    {
     "ename": "KeyboardInterrupt",
     "evalue": "",
     "output_type": "error",
     "traceback": [
      "\u001B[0;31m---------------------------------------------------------------------------\u001B[0m",
      "\u001B[0;31mKeyboardInterrupt\u001B[0m                         Traceback (most recent call last)",
      "Cell \u001B[0;32mIn[18], line 2\u001B[0m\n\u001B[1;32m      1\u001B[0m \u001B[38;5;28;01mfor\u001B[39;00m experiment_name, experiment_params \u001B[38;5;129;01min\u001B[39;00m experiments\u001B[38;5;241m.\u001B[39mitems():\n\u001B[0;32m----> 2\u001B[0m     \u001B[43mrun_cross_validation\u001B[49m\u001B[43m(\u001B[49m\u001B[43mexperiment_name\u001B[49m\u001B[43m,\u001B[49m\u001B[43m \u001B[49m\u001B[43mexperiment_params\u001B[49m\u001B[43m,\u001B[49m\u001B[43m \u001B[49m\u001B[43mbatch_size\u001B[49m\u001B[38;5;241;43m=\u001B[39;49m\u001B[43mbatch_size\u001B[49m\u001B[43m)\u001B[49m\n",
      "Cell \u001B[0;32mIn[17], line 62\u001B[0m, in \u001B[0;36mrun_cross_validation\u001B[0;34m(experiment_name, experiment_params, batch_size)\u001B[0m\n\u001B[1;32m     59\u001B[0m \u001B[38;5;28mprint\u001B[39m(\u001B[38;5;124m\"\u001B[39m\u001B[38;5;124mParams: \u001B[39m\u001B[38;5;124m\"\u001B[39m, experiment_params)\n\u001B[1;32m     60\u001B[0m tensorboard_callback\u001B[38;5;241m.\u001B[39mlog_dir \u001B[38;5;241m=\u001B[39m log_dir \u001B[38;5;241m+\u001B[39m \u001B[38;5;124mf\u001B[39m\u001B[38;5;124m\"\u001B[39m\u001B[38;5;124m/\u001B[39m\u001B[38;5;132;01m{\u001B[39;00mexperiment_name\u001B[38;5;132;01m}\u001B[39;00m\u001B[38;5;124m/fold_\u001B[39m\u001B[38;5;132;01m{\u001B[39;00mi\u001B[38;5;250m \u001B[39m\u001B[38;5;241m+\u001B[39m\u001B[38;5;250m \u001B[39m\u001B[38;5;241m1\u001B[39m\u001B[38;5;132;01m}\u001B[39;00m\u001B[38;5;124m\"\u001B[39m\n\u001B[0;32m---> 62\u001B[0m \u001B[43mmodel\u001B[49m\u001B[38;5;241;43m.\u001B[39;49m\u001B[43mfit\u001B[49m\u001B[43m(\u001B[49m\n\u001B[1;32m     63\u001B[0m \u001B[43m    \u001B[49m\u001B[43mtrain_dataset\u001B[49m\u001B[38;5;241;43m.\u001B[39;49m\u001B[43mbatch\u001B[49m\u001B[43m(\u001B[49m\u001B[43mbatch_size\u001B[49m\u001B[43m,\u001B[49m\u001B[43m \u001B[49m\u001B[43mdrop_remainder\u001B[49m\u001B[38;5;241;43m=\u001B[39;49m\u001B[38;5;28;43;01mTrue\u001B[39;49;00m\u001B[43m)\u001B[49m\u001B[38;5;241;43m.\u001B[39;49m\u001B[43mprefetch\u001B[49m\u001B[43m(\u001B[49m\u001B[43mtf\u001B[49m\u001B[38;5;241;43m.\u001B[39;49m\u001B[43mdata\u001B[49m\u001B[38;5;241;43m.\u001B[39;49m\u001B[43mAUTOTUNE\u001B[49m\u001B[43m)\u001B[49m\u001B[43m,\u001B[49m\n\u001B[1;32m     64\u001B[0m \u001B[43m    \u001B[49m\u001B[43mvalidation_data\u001B[49m\u001B[38;5;241;43m=\u001B[39;49m\u001B[43mval_dataset\u001B[49m\u001B[38;5;241;43m.\u001B[39;49m\u001B[43mbatch\u001B[49m\u001B[43m(\u001B[49m\u001B[43mbatch_size\u001B[49m\u001B[43m,\u001B[49m\u001B[43m \u001B[49m\u001B[43mdrop_remainder\u001B[49m\u001B[38;5;241;43m=\u001B[39;49m\u001B[38;5;28;43;01mTrue\u001B[39;49;00m\u001B[43m)\u001B[49m\u001B[38;5;241;43m.\u001B[39;49m\u001B[43mprefetch\u001B[49m\u001B[43m(\u001B[49m\u001B[43mtf\u001B[49m\u001B[38;5;241;43m.\u001B[39;49m\u001B[43mdata\u001B[49m\u001B[38;5;241;43m.\u001B[39;49m\u001B[43mAUTOTUNE\u001B[49m\u001B[43m)\u001B[49m\u001B[43m,\u001B[49m\n\u001B[1;32m     65\u001B[0m \u001B[43m    \u001B[49m\u001B[43mcallbacks\u001B[49m\u001B[38;5;241;43m=\u001B[39;49m\u001B[43mcallbacks_list\u001B[49m\u001B[43m,\u001B[49m\n\u001B[1;32m     66\u001B[0m \u001B[43m    \u001B[49m\u001B[43mepochs\u001B[49m\u001B[38;5;241;43m=\u001B[39;49m\u001B[38;5;241;43m30\u001B[39;49m\n\u001B[1;32m     67\u001B[0m \u001B[43m\u001B[49m\u001B[43m)\u001B[49m\n",
      "File \u001B[0;32m~/anaconda3/envs/av_training/lib/python3.10/site-packages/keras/src/utils/traceback_utils.py:65\u001B[0m, in \u001B[0;36mfilter_traceback.<locals>.error_handler\u001B[0;34m(*args, **kwargs)\u001B[0m\n\u001B[1;32m     63\u001B[0m filtered_tb \u001B[38;5;241m=\u001B[39m \u001B[38;5;28;01mNone\u001B[39;00m\n\u001B[1;32m     64\u001B[0m \u001B[38;5;28;01mtry\u001B[39;00m:\n\u001B[0;32m---> 65\u001B[0m     \u001B[38;5;28;01mreturn\u001B[39;00m \u001B[43mfn\u001B[49m\u001B[43m(\u001B[49m\u001B[38;5;241;43m*\u001B[39;49m\u001B[43margs\u001B[49m\u001B[43m,\u001B[49m\u001B[43m \u001B[49m\u001B[38;5;241;43m*\u001B[39;49m\u001B[38;5;241;43m*\u001B[39;49m\u001B[43mkwargs\u001B[49m\u001B[43m)\u001B[49m\n\u001B[1;32m     66\u001B[0m \u001B[38;5;28;01mexcept\u001B[39;00m \u001B[38;5;167;01mException\u001B[39;00m \u001B[38;5;28;01mas\u001B[39;00m e:\n\u001B[1;32m     67\u001B[0m     filtered_tb \u001B[38;5;241m=\u001B[39m _process_traceback_frames(e\u001B[38;5;241m.\u001B[39m__traceback__)\n",
      "File \u001B[0;32m~/anaconda3/envs/av_training/lib/python3.10/site-packages/keras/src/engine/training.py:1813\u001B[0m, in \u001B[0;36mModel.fit\u001B[0;34m(self, x, y, batch_size, epochs, verbose, callbacks, validation_split, validation_data, shuffle, class_weight, sample_weight, initial_epoch, steps_per_epoch, validation_steps, validation_batch_size, validation_freq, max_queue_size, workers, use_multiprocessing)\u001B[0m\n\u001B[1;32m   1811\u001B[0m logs \u001B[38;5;241m=\u001B[39m tmp_logs\n\u001B[1;32m   1812\u001B[0m end_step \u001B[38;5;241m=\u001B[39m step \u001B[38;5;241m+\u001B[39m data_handler\u001B[38;5;241m.\u001B[39mstep_increment\n\u001B[0;32m-> 1813\u001B[0m \u001B[43mcallbacks\u001B[49m\u001B[38;5;241;43m.\u001B[39;49m\u001B[43mon_train_batch_end\u001B[49m\u001B[43m(\u001B[49m\u001B[43mend_step\u001B[49m\u001B[43m,\u001B[49m\u001B[43m \u001B[49m\u001B[43mlogs\u001B[49m\u001B[43m)\u001B[49m\n\u001B[1;32m   1814\u001B[0m \u001B[38;5;28;01mif\u001B[39;00m \u001B[38;5;28mself\u001B[39m\u001B[38;5;241m.\u001B[39mstop_training:\n\u001B[1;32m   1815\u001B[0m     \u001B[38;5;28;01mbreak\u001B[39;00m\n",
      "File \u001B[0;32m~/anaconda3/envs/av_training/lib/python3.10/site-packages/keras/src/callbacks.py:475\u001B[0m, in \u001B[0;36mCallbackList.on_train_batch_end\u001B[0;34m(self, batch, logs)\u001B[0m\n\u001B[1;32m    468\u001B[0m \u001B[38;5;250m\u001B[39m\u001B[38;5;124;03m\"\"\"Calls the `on_train_batch_end` methods of its callbacks.\u001B[39;00m\n\u001B[1;32m    469\u001B[0m \n\u001B[1;32m    470\u001B[0m \u001B[38;5;124;03mArgs:\u001B[39;00m\n\u001B[1;32m    471\u001B[0m \u001B[38;5;124;03m    batch: Integer, index of batch within the current epoch.\u001B[39;00m\n\u001B[1;32m    472\u001B[0m \u001B[38;5;124;03m    logs: Dict. Aggregated metric results up until this batch.\u001B[39;00m\n\u001B[1;32m    473\u001B[0m \u001B[38;5;124;03m\"\"\"\u001B[39;00m\n\u001B[1;32m    474\u001B[0m \u001B[38;5;28;01mif\u001B[39;00m \u001B[38;5;28mself\u001B[39m\u001B[38;5;241m.\u001B[39m_should_call_train_batch_hooks:\n\u001B[0;32m--> 475\u001B[0m     \u001B[38;5;28;43mself\u001B[39;49m\u001B[38;5;241;43m.\u001B[39;49m\u001B[43m_call_batch_hook\u001B[49m\u001B[43m(\u001B[49m\u001B[43mModeKeys\u001B[49m\u001B[38;5;241;43m.\u001B[39;49m\u001B[43mTRAIN\u001B[49m\u001B[43m,\u001B[49m\u001B[43m \u001B[49m\u001B[38;5;124;43m\"\u001B[39;49m\u001B[38;5;124;43mend\u001B[39;49m\u001B[38;5;124;43m\"\u001B[39;49m\u001B[43m,\u001B[49m\u001B[43m \u001B[49m\u001B[43mbatch\u001B[49m\u001B[43m,\u001B[49m\u001B[43m \u001B[49m\u001B[43mlogs\u001B[49m\u001B[38;5;241;43m=\u001B[39;49m\u001B[43mlogs\u001B[49m\u001B[43m)\u001B[49m\n",
      "File \u001B[0;32m~/anaconda3/envs/av_training/lib/python3.10/site-packages/keras/src/callbacks.py:322\u001B[0m, in \u001B[0;36mCallbackList._call_batch_hook\u001B[0;34m(self, mode, hook, batch, logs)\u001B[0m\n\u001B[1;32m    320\u001B[0m     \u001B[38;5;28mself\u001B[39m\u001B[38;5;241m.\u001B[39m_call_batch_begin_hook(mode, batch, logs)\n\u001B[1;32m    321\u001B[0m \u001B[38;5;28;01melif\u001B[39;00m hook \u001B[38;5;241m==\u001B[39m \u001B[38;5;124m\"\u001B[39m\u001B[38;5;124mend\u001B[39m\u001B[38;5;124m\"\u001B[39m:\n\u001B[0;32m--> 322\u001B[0m     \u001B[38;5;28;43mself\u001B[39;49m\u001B[38;5;241;43m.\u001B[39;49m\u001B[43m_call_batch_end_hook\u001B[49m\u001B[43m(\u001B[49m\u001B[43mmode\u001B[49m\u001B[43m,\u001B[49m\u001B[43m \u001B[49m\u001B[43mbatch\u001B[49m\u001B[43m,\u001B[49m\u001B[43m \u001B[49m\u001B[43mlogs\u001B[49m\u001B[43m)\u001B[49m\n\u001B[1;32m    323\u001B[0m \u001B[38;5;28;01melse\u001B[39;00m:\n\u001B[1;32m    324\u001B[0m     \u001B[38;5;28;01mraise\u001B[39;00m \u001B[38;5;167;01mValueError\u001B[39;00m(\n\u001B[1;32m    325\u001B[0m         \u001B[38;5;124mf\u001B[39m\u001B[38;5;124m\"\u001B[39m\u001B[38;5;124mUnrecognized hook: \u001B[39m\u001B[38;5;132;01m{\u001B[39;00mhook\u001B[38;5;132;01m}\u001B[39;00m\u001B[38;5;124m. \u001B[39m\u001B[38;5;124m\"\u001B[39m\n\u001B[1;32m    326\u001B[0m         \u001B[38;5;124m'\u001B[39m\u001B[38;5;124mExpected values are [\u001B[39m\u001B[38;5;124m\"\u001B[39m\u001B[38;5;124mbegin\u001B[39m\u001B[38;5;124m\"\u001B[39m\u001B[38;5;124m, \u001B[39m\u001B[38;5;124m\"\u001B[39m\u001B[38;5;124mend\u001B[39m\u001B[38;5;124m\"\u001B[39m\u001B[38;5;124m]\u001B[39m\u001B[38;5;124m'\u001B[39m\n\u001B[1;32m    327\u001B[0m     )\n",
      "File \u001B[0;32m~/anaconda3/envs/av_training/lib/python3.10/site-packages/keras/src/callbacks.py:345\u001B[0m, in \u001B[0;36mCallbackList._call_batch_end_hook\u001B[0;34m(self, mode, batch, logs)\u001B[0m\n\u001B[1;32m    342\u001B[0m     batch_time \u001B[38;5;241m=\u001B[39m time\u001B[38;5;241m.\u001B[39mtime() \u001B[38;5;241m-\u001B[39m \u001B[38;5;28mself\u001B[39m\u001B[38;5;241m.\u001B[39m_batch_start_time\n\u001B[1;32m    343\u001B[0m     \u001B[38;5;28mself\u001B[39m\u001B[38;5;241m.\u001B[39m_batch_times\u001B[38;5;241m.\u001B[39mappend(batch_time)\n\u001B[0;32m--> 345\u001B[0m \u001B[38;5;28;43mself\u001B[39;49m\u001B[38;5;241;43m.\u001B[39;49m\u001B[43m_call_batch_hook_helper\u001B[49m\u001B[43m(\u001B[49m\u001B[43mhook_name\u001B[49m\u001B[43m,\u001B[49m\u001B[43m \u001B[49m\u001B[43mbatch\u001B[49m\u001B[43m,\u001B[49m\u001B[43m \u001B[49m\u001B[43mlogs\u001B[49m\u001B[43m)\u001B[49m\n\u001B[1;32m    347\u001B[0m \u001B[38;5;28;01mif\u001B[39;00m \u001B[38;5;28mlen\u001B[39m(\u001B[38;5;28mself\u001B[39m\u001B[38;5;241m.\u001B[39m_batch_times) \u001B[38;5;241m>\u001B[39m\u001B[38;5;241m=\u001B[39m \u001B[38;5;28mself\u001B[39m\u001B[38;5;241m.\u001B[39m_num_batches_for_timing_check:\n\u001B[1;32m    348\u001B[0m     end_hook_name \u001B[38;5;241m=\u001B[39m hook_name\n",
      "File \u001B[0;32m~/anaconda3/envs/av_training/lib/python3.10/site-packages/keras/src/callbacks.py:393\u001B[0m, in \u001B[0;36mCallbackList._call_batch_hook_helper\u001B[0;34m(self, hook_name, batch, logs)\u001B[0m\n\u001B[1;32m    391\u001B[0m \u001B[38;5;28;01mfor\u001B[39;00m callback \u001B[38;5;129;01min\u001B[39;00m \u001B[38;5;28mself\u001B[39m\u001B[38;5;241m.\u001B[39mcallbacks:\n\u001B[1;32m    392\u001B[0m     hook \u001B[38;5;241m=\u001B[39m \u001B[38;5;28mgetattr\u001B[39m(callback, hook_name)\n\u001B[0;32m--> 393\u001B[0m     \u001B[43mhook\u001B[49m\u001B[43m(\u001B[49m\u001B[43mbatch\u001B[49m\u001B[43m,\u001B[49m\u001B[43m \u001B[49m\u001B[43mlogs\u001B[49m\u001B[43m)\u001B[49m\n\u001B[1;32m    395\u001B[0m \u001B[38;5;28;01mif\u001B[39;00m \u001B[38;5;28mself\u001B[39m\u001B[38;5;241m.\u001B[39m_check_timing:\n\u001B[1;32m    396\u001B[0m     \u001B[38;5;28;01mif\u001B[39;00m hook_name \u001B[38;5;129;01mnot\u001B[39;00m \u001B[38;5;129;01min\u001B[39;00m \u001B[38;5;28mself\u001B[39m\u001B[38;5;241m.\u001B[39m_hook_times:\n",
      "File \u001B[0;32m~/anaconda3/envs/av_training/lib/python3.10/site-packages/keras/src/callbacks.py:1093\u001B[0m, in \u001B[0;36mProgbarLogger.on_train_batch_end\u001B[0;34m(self, batch, logs)\u001B[0m\n\u001B[1;32m   1092\u001B[0m \u001B[38;5;28;01mdef\u001B[39;00m \u001B[38;5;21mon_train_batch_end\u001B[39m(\u001B[38;5;28mself\u001B[39m, batch, logs\u001B[38;5;241m=\u001B[39m\u001B[38;5;28;01mNone\u001B[39;00m):\n\u001B[0;32m-> 1093\u001B[0m     \u001B[38;5;28;43mself\u001B[39;49m\u001B[38;5;241;43m.\u001B[39;49m\u001B[43m_batch_update_progbar\u001B[49m\u001B[43m(\u001B[49m\u001B[43mbatch\u001B[49m\u001B[43m,\u001B[49m\u001B[43m \u001B[49m\u001B[43mlogs\u001B[49m\u001B[43m)\u001B[49m\n",
      "File \u001B[0;32m~/anaconda3/envs/av_training/lib/python3.10/site-packages/keras/src/callbacks.py:1169\u001B[0m, in \u001B[0;36mProgbarLogger._batch_update_progbar\u001B[0;34m(self, batch, logs)\u001B[0m\n\u001B[1;32m   1165\u001B[0m     \u001B[38;5;28mself\u001B[39m\u001B[38;5;241m.\u001B[39mseen \u001B[38;5;241m+\u001B[39m\u001B[38;5;241m=\u001B[39m add_seen\n\u001B[1;32m   1167\u001B[0m \u001B[38;5;28;01mif\u001B[39;00m \u001B[38;5;28mself\u001B[39m\u001B[38;5;241m.\u001B[39mverbose \u001B[38;5;241m==\u001B[39m \u001B[38;5;241m1\u001B[39m:\n\u001B[1;32m   1168\u001B[0m     \u001B[38;5;66;03m# Only block async when verbose = 1.\u001B[39;00m\n\u001B[0;32m-> 1169\u001B[0m     logs \u001B[38;5;241m=\u001B[39m \u001B[43mtf_utils\u001B[49m\u001B[38;5;241;43m.\u001B[39;49m\u001B[43msync_to_numpy_or_python_type\u001B[49m\u001B[43m(\u001B[49m\u001B[43mlogs\u001B[49m\u001B[43m)\u001B[49m\n\u001B[1;32m   1170\u001B[0m     \u001B[38;5;28mself\u001B[39m\u001B[38;5;241m.\u001B[39mprogbar\u001B[38;5;241m.\u001B[39mupdate(\u001B[38;5;28mself\u001B[39m\u001B[38;5;241m.\u001B[39mseen, \u001B[38;5;28mlist\u001B[39m(logs\u001B[38;5;241m.\u001B[39mitems()), finalize\u001B[38;5;241m=\u001B[39m\u001B[38;5;28;01mFalse\u001B[39;00m)\n",
      "File \u001B[0;32m~/anaconda3/envs/av_training/lib/python3.10/site-packages/keras/src/utils/tf_utils.py:694\u001B[0m, in \u001B[0;36msync_to_numpy_or_python_type\u001B[0;34m(tensors)\u001B[0m\n\u001B[1;32m    691\u001B[0m         \u001B[38;5;28;01mreturn\u001B[39;00m t\n\u001B[1;32m    692\u001B[0m     \u001B[38;5;28;01mreturn\u001B[39;00m t\u001B[38;5;241m.\u001B[39mitem() \u001B[38;5;28;01mif\u001B[39;00m np\u001B[38;5;241m.\u001B[39mndim(t) \u001B[38;5;241m==\u001B[39m \u001B[38;5;241m0\u001B[39m \u001B[38;5;28;01melse\u001B[39;00m t\n\u001B[0;32m--> 694\u001B[0m \u001B[38;5;28;01mreturn\u001B[39;00m \u001B[43mtf\u001B[49m\u001B[38;5;241;43m.\u001B[39;49m\u001B[43mnest\u001B[49m\u001B[38;5;241;43m.\u001B[39;49m\u001B[43mmap_structure\u001B[49m\u001B[43m(\u001B[49m\u001B[43m_to_single_numpy_or_python_type\u001B[49m\u001B[43m,\u001B[49m\u001B[43m \u001B[49m\u001B[43mtensors\u001B[49m\u001B[43m)\u001B[49m\n",
      "File \u001B[0;32m~/anaconda3/envs/av_training/lib/python3.10/site-packages/tensorflow/python/util/nest.py:631\u001B[0m, in \u001B[0;36mmap_structure\u001B[0;34m(func, *structure, **kwargs)\u001B[0m\n\u001B[1;32m    545\u001B[0m \u001B[38;5;129m@tf_export\u001B[39m(\u001B[38;5;124m\"\u001B[39m\u001B[38;5;124mnest.map_structure\u001B[39m\u001B[38;5;124m\"\u001B[39m)\n\u001B[1;32m    546\u001B[0m \u001B[38;5;28;01mdef\u001B[39;00m \u001B[38;5;21mmap_structure\u001B[39m(func, \u001B[38;5;241m*\u001B[39mstructure, \u001B[38;5;241m*\u001B[39m\u001B[38;5;241m*\u001B[39mkwargs):\n\u001B[1;32m    547\u001B[0m \u001B[38;5;250m  \u001B[39m\u001B[38;5;124;03m\"\"\"Creates a new structure by applying `func` to each atom in `structure`.\u001B[39;00m\n\u001B[1;32m    548\u001B[0m \n\u001B[1;32m    549\u001B[0m \u001B[38;5;124;03m  Refer to [tf.nest](https://www.tensorflow.org/api_docs/python/tf/nest)\u001B[39;00m\n\u001B[0;32m   (...)\u001B[0m\n\u001B[1;32m    629\u001B[0m \u001B[38;5;124;03m    ValueError: If wrong keyword arguments are provided.\u001B[39;00m\n\u001B[1;32m    630\u001B[0m \u001B[38;5;124;03m  \"\"\"\u001B[39;00m\n\u001B[0;32m--> 631\u001B[0m   \u001B[38;5;28;01mreturn\u001B[39;00m \u001B[43mnest_util\u001B[49m\u001B[38;5;241;43m.\u001B[39;49m\u001B[43mmap_structure\u001B[49m\u001B[43m(\u001B[49m\n\u001B[1;32m    632\u001B[0m \u001B[43m      \u001B[49m\u001B[43mnest_util\u001B[49m\u001B[38;5;241;43m.\u001B[39;49m\u001B[43mModality\u001B[49m\u001B[38;5;241;43m.\u001B[39;49m\u001B[43mCORE\u001B[49m\u001B[43m,\u001B[49m\u001B[43m \u001B[49m\u001B[43mfunc\u001B[49m\u001B[43m,\u001B[49m\u001B[43m \u001B[49m\u001B[38;5;241;43m*\u001B[39;49m\u001B[43mstructure\u001B[49m\u001B[43m,\u001B[49m\u001B[43m \u001B[49m\u001B[38;5;241;43m*\u001B[39;49m\u001B[38;5;241;43m*\u001B[39;49m\u001B[43mkwargs\u001B[49m\n\u001B[1;32m    633\u001B[0m \u001B[43m  \u001B[49m\u001B[43m)\u001B[49m\n",
      "File \u001B[0;32m~/anaconda3/envs/av_training/lib/python3.10/site-packages/tensorflow/python/util/nest_util.py:1066\u001B[0m, in \u001B[0;36mmap_structure\u001B[0;34m(modality, func, *structure, **kwargs)\u001B[0m\n\u001B[1;32m    969\u001B[0m \u001B[38;5;250m\u001B[39m\u001B[38;5;124;03m\"\"\"Creates a new structure by applying `func` to each atom in `structure`.\u001B[39;00m\n\u001B[1;32m    970\u001B[0m \n\u001B[1;32m    971\u001B[0m \u001B[38;5;124;03m- For Modality.CORE: Refer to\u001B[39;00m\n\u001B[0;32m   (...)\u001B[0m\n\u001B[1;32m   1063\u001B[0m \u001B[38;5;124;03m  ValueError: If wrong keyword arguments are provided.\u001B[39;00m\n\u001B[1;32m   1064\u001B[0m \u001B[38;5;124;03m\"\"\"\u001B[39;00m\n\u001B[1;32m   1065\u001B[0m \u001B[38;5;28;01mif\u001B[39;00m modality \u001B[38;5;241m==\u001B[39m Modality\u001B[38;5;241m.\u001B[39mCORE:\n\u001B[0;32m-> 1066\u001B[0m   \u001B[38;5;28;01mreturn\u001B[39;00m \u001B[43m_tf_core_map_structure\u001B[49m\u001B[43m(\u001B[49m\u001B[43mfunc\u001B[49m\u001B[43m,\u001B[49m\u001B[43m \u001B[49m\u001B[38;5;241;43m*\u001B[39;49m\u001B[43mstructure\u001B[49m\u001B[43m,\u001B[49m\u001B[43m \u001B[49m\u001B[38;5;241;43m*\u001B[39;49m\u001B[38;5;241;43m*\u001B[39;49m\u001B[43mkwargs\u001B[49m\u001B[43m)\u001B[49m\n\u001B[1;32m   1067\u001B[0m \u001B[38;5;28;01melif\u001B[39;00m modality \u001B[38;5;241m==\u001B[39m Modality\u001B[38;5;241m.\u001B[39mDATA:\n\u001B[1;32m   1068\u001B[0m   \u001B[38;5;28;01mreturn\u001B[39;00m _tf_data_map_structure(func, \u001B[38;5;241m*\u001B[39mstructure, \u001B[38;5;241m*\u001B[39m\u001B[38;5;241m*\u001B[39mkwargs)\n",
      "File \u001B[0;32m~/anaconda3/envs/av_training/lib/python3.10/site-packages/tensorflow/python/util/nest_util.py:1106\u001B[0m, in \u001B[0;36m_tf_core_map_structure\u001B[0;34m(func, *structure, **kwargs)\u001B[0m\n\u001B[1;32m   1101\u001B[0m flat_structure \u001B[38;5;241m=\u001B[39m (_tf_core_flatten(s, expand_composites) \u001B[38;5;28;01mfor\u001B[39;00m s \u001B[38;5;129;01min\u001B[39;00m structure)\n\u001B[1;32m   1102\u001B[0m entries \u001B[38;5;241m=\u001B[39m \u001B[38;5;28mzip\u001B[39m(\u001B[38;5;241m*\u001B[39mflat_structure)\n\u001B[1;32m   1104\u001B[0m \u001B[38;5;28;01mreturn\u001B[39;00m _tf_core_pack_sequence_as(\n\u001B[1;32m   1105\u001B[0m     structure[\u001B[38;5;241m0\u001B[39m],\n\u001B[0;32m-> 1106\u001B[0m     [func(\u001B[38;5;241m*\u001B[39mx) \u001B[38;5;28;01mfor\u001B[39;00m x \u001B[38;5;129;01min\u001B[39;00m entries],\n\u001B[1;32m   1107\u001B[0m     expand_composites\u001B[38;5;241m=\u001B[39mexpand_composites,\n\u001B[1;32m   1108\u001B[0m )\n",
      "File \u001B[0;32m~/anaconda3/envs/av_training/lib/python3.10/site-packages/tensorflow/python/util/nest_util.py:1106\u001B[0m, in \u001B[0;36m<listcomp>\u001B[0;34m(.0)\u001B[0m\n\u001B[1;32m   1101\u001B[0m flat_structure \u001B[38;5;241m=\u001B[39m (_tf_core_flatten(s, expand_composites) \u001B[38;5;28;01mfor\u001B[39;00m s \u001B[38;5;129;01min\u001B[39;00m structure)\n\u001B[1;32m   1102\u001B[0m entries \u001B[38;5;241m=\u001B[39m \u001B[38;5;28mzip\u001B[39m(\u001B[38;5;241m*\u001B[39mflat_structure)\n\u001B[1;32m   1104\u001B[0m \u001B[38;5;28;01mreturn\u001B[39;00m _tf_core_pack_sequence_as(\n\u001B[1;32m   1105\u001B[0m     structure[\u001B[38;5;241m0\u001B[39m],\n\u001B[0;32m-> 1106\u001B[0m     [\u001B[43mfunc\u001B[49m\u001B[43m(\u001B[49m\u001B[38;5;241;43m*\u001B[39;49m\u001B[43mx\u001B[49m\u001B[43m)\u001B[49m \u001B[38;5;28;01mfor\u001B[39;00m x \u001B[38;5;129;01min\u001B[39;00m entries],\n\u001B[1;32m   1107\u001B[0m     expand_composites\u001B[38;5;241m=\u001B[39mexpand_composites,\n\u001B[1;32m   1108\u001B[0m )\n",
      "File \u001B[0;32m~/anaconda3/envs/av_training/lib/python3.10/site-packages/keras/src/utils/tf_utils.py:687\u001B[0m, in \u001B[0;36msync_to_numpy_or_python_type.<locals>._to_single_numpy_or_python_type\u001B[0;34m(t)\u001B[0m\n\u001B[1;32m    684\u001B[0m \u001B[38;5;28;01mdef\u001B[39;00m \u001B[38;5;21m_to_single_numpy_or_python_type\u001B[39m(t):\n\u001B[1;32m    685\u001B[0m     \u001B[38;5;66;03m# Don't turn ragged or sparse tensors to NumPy.\u001B[39;00m\n\u001B[1;32m    686\u001B[0m     \u001B[38;5;28;01mif\u001B[39;00m \u001B[38;5;28misinstance\u001B[39m(t, tf\u001B[38;5;241m.\u001B[39mTensor):\n\u001B[0;32m--> 687\u001B[0m         t \u001B[38;5;241m=\u001B[39m \u001B[43mt\u001B[49m\u001B[38;5;241;43m.\u001B[39;49m\u001B[43mnumpy\u001B[49m\u001B[43m(\u001B[49m\u001B[43m)\u001B[49m\n\u001B[1;32m    688\u001B[0m     \u001B[38;5;66;03m# Strings, ragged and sparse tensors don't have .item(). Return them\u001B[39;00m\n\u001B[1;32m    689\u001B[0m     \u001B[38;5;66;03m# as-is.\u001B[39;00m\n\u001B[1;32m    690\u001B[0m     \u001B[38;5;28;01mif\u001B[39;00m \u001B[38;5;129;01mnot\u001B[39;00m \u001B[38;5;28misinstance\u001B[39m(t, (np\u001B[38;5;241m.\u001B[39mndarray, np\u001B[38;5;241m.\u001B[39mgeneric)):\n",
      "File \u001B[0;32m~/anaconda3/envs/av_training/lib/python3.10/site-packages/tensorflow/python/framework/ops.py:394\u001B[0m, in \u001B[0;36m_EagerTensorBase.numpy\u001B[0;34m(self)\u001B[0m\n\u001B[1;32m    371\u001B[0m \u001B[38;5;250m\u001B[39m\u001B[38;5;124;03m\"\"\"Copy of the contents of this Tensor into a NumPy array or scalar.\u001B[39;00m\n\u001B[1;32m    372\u001B[0m \n\u001B[1;32m    373\u001B[0m \u001B[38;5;124;03mUnlike NumPy arrays, Tensors are immutable, so this method has to copy\u001B[39;00m\n\u001B[0;32m   (...)\u001B[0m\n\u001B[1;32m    391\u001B[0m \u001B[38;5;124;03m    NumPy dtype.\u001B[39;00m\n\u001B[1;32m    392\u001B[0m \u001B[38;5;124;03m\"\"\"\u001B[39;00m\n\u001B[1;32m    393\u001B[0m \u001B[38;5;66;03m# TODO(slebedev): Consider avoiding a copy for non-CPU or remote tensors.\u001B[39;00m\n\u001B[0;32m--> 394\u001B[0m maybe_arr \u001B[38;5;241m=\u001B[39m \u001B[38;5;28;43mself\u001B[39;49m\u001B[38;5;241;43m.\u001B[39;49m\u001B[43m_numpy\u001B[49m\u001B[43m(\u001B[49m\u001B[43m)\u001B[49m  \u001B[38;5;66;03m# pylint: disable=protected-access\u001B[39;00m\n\u001B[1;32m    395\u001B[0m \u001B[38;5;28;01mreturn\u001B[39;00m maybe_arr\u001B[38;5;241m.\u001B[39mcopy() \u001B[38;5;28;01mif\u001B[39;00m \u001B[38;5;28misinstance\u001B[39m(maybe_arr, np\u001B[38;5;241m.\u001B[39mndarray) \u001B[38;5;28;01melse\u001B[39;00m maybe_arr\n",
      "File \u001B[0;32m~/anaconda3/envs/av_training/lib/python3.10/site-packages/tensorflow/python/framework/ops.py:360\u001B[0m, in \u001B[0;36m_EagerTensorBase._numpy\u001B[0;34m(self)\u001B[0m\n\u001B[1;32m    358\u001B[0m \u001B[38;5;28;01mdef\u001B[39;00m \u001B[38;5;21m_numpy\u001B[39m(\u001B[38;5;28mself\u001B[39m):\n\u001B[1;32m    359\u001B[0m   \u001B[38;5;28;01mtry\u001B[39;00m:\n\u001B[0;32m--> 360\u001B[0m     \u001B[38;5;28;01mreturn\u001B[39;00m \u001B[38;5;28;43mself\u001B[39;49m\u001B[38;5;241;43m.\u001B[39;49m\u001B[43m_numpy_internal\u001B[49m\u001B[43m(\u001B[49m\u001B[43m)\u001B[49m\n\u001B[1;32m    361\u001B[0m   \u001B[38;5;28;01mexcept\u001B[39;00m core\u001B[38;5;241m.\u001B[39m_NotOkStatusException \u001B[38;5;28;01mas\u001B[39;00m e:  \u001B[38;5;66;03m# pylint: disable=protected-access\u001B[39;00m\n\u001B[1;32m    362\u001B[0m     \u001B[38;5;28;01mraise\u001B[39;00m core\u001B[38;5;241m.\u001B[39m_status_to_exception(e) \u001B[38;5;28;01mfrom\u001B[39;00m \u001B[38;5;28;01mNone\u001B[39;00m\n",
      "\u001B[0;31mKeyboardInterrupt\u001B[0m: "
     ]
    }
   ],
   "execution_count": 18
  },
  {
   "metadata": {
    "ExecuteTime": {
     "end_time": "2024-04-19T23:07:32.420394Z",
     "start_time": "2024-04-19T23:07:32.420333Z"
    }
   },
   "cell_type": "code",
   "source": [
    "# def scheduler(epoch, lr):\n",
    "#     if epoch in (4, 10, 15):\n",
    "#         return lr * 0.5\n",
    "#     else:\n",
    "#         return lr\n",
    "# \n",
    "# callback_lr_scheduler = tf.keras.callbacks.LearningRateScheduler(scheduler)"
   ],
   "id": "laI7Ltmlo_rh",
   "outputs": [],
   "execution_count": null
  },
  {
   "cell_type": "code",
   "id": "c593055070c2cb7b",
   "metadata": {
    "executionInfo": {
     "elapsed": 4,
     "status": "aborted",
     "timestamp": 1712395168528,
     "user": {
      "displayName": "Jesus Armando Anaya",
      "userId": "10837992074590593370"
     },
     "user_tz": 420
    },
    "id": "c593055070c2cb7b"
   },
   "source": [
    "# %load_ext tensorboard"
   ],
   "outputs": [],
   "execution_count": null
  },
  {
   "cell_type": "code",
   "id": "tiC8X2OCeucW",
   "metadata": {
    "executionInfo": {
     "elapsed": 4,
     "status": "aborted",
     "timestamp": 1712395168528,
     "user": {
      "displayName": "Jesus Armando Anaya",
      "userId": "10837992074590593370"
     },
     "user_tz": 420
    },
    "id": "tiC8X2OCeucW"
   },
   "source": [
    "# %tensorboard --logdir ./logs/fit/"
   ],
   "outputs": [],
   "execution_count": null
  }
 ],
 "metadata": {
  "accelerator": "GPU",
  "colab": {
   "gpuType": "T4",
   "provenance": []
  },
  "kernelspec": {
   "display_name": "Python 3 (ipykernel)",
   "language": "python",
   "name": "python3"
  },
  "language_info": {
   "codemirror_mode": {
    "name": "ipython",
    "version": 3
   },
   "file_extension": ".py",
   "mimetype": "text/x-python",
   "name": "python",
   "nbconvert_exporter": "python",
   "pygments_lexer": "ipython3",
   "version": "3.10.14"
  }
 },
 "nbformat": 4,
 "nbformat_minor": 5
}
