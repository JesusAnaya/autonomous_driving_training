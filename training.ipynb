{
 "cells": [
  {
   "cell_type": "code",
   "execution_count": 2,
   "id": "b34931cb-5dd1-480d-af10-6910f28791d5",
   "metadata": {},
   "outputs": [
    {
     "name": "stderr",
     "output_type": "stream",
     "text": [
      "2024-04-03 00:51:18.295235: I tensorflow/core/util/port.cc:113] oneDNN custom operations are on. You may see slightly different numerical results due to floating-point round-off errors from different computation orders. To turn them off, set the environment variable `TF_ENABLE_ONEDNN_OPTS=0`.\n",
      "2024-04-03 00:51:18.321141: I tensorflow/core/platform/cpu_feature_guard.cc:210] This TensorFlow binary is optimized to use available CPU instructions in performance-critical operations.\n",
      "To enable the following instructions: AVX2 AVX_VNNI FMA, in other operations, rebuild TensorFlow with the appropriate compiler flags.\n",
      "2024-04-03 00:51:18.699947: W tensorflow/compiler/tf2tensorrt/utils/py_utils.cc:38] TF-TRT Warning: Could not find TensorRT\n"
     ]
    }
   ],
   "source": [
    "import tensorflow as tf\n",
    "from tensorflow.keras import layers, models"
   ]
  },
  {
   "cell_type": "code",
   "execution_count": 3,
   "id": "98b5a5da-44a8-49be-82f4-214073f3c8c3",
   "metadata": {},
   "outputs": [],
   "source": [
    "class EndToEndModel(tf.keras.Model):\n",
    "    def __init__(self):\n",
    "        super().__init__()\n",
    "\n",
    "        # Convolutional layers\n",
    "        self.conv_layers = tf.keras.Sequential([\n",
    "            # First convolutional layer, Width: 200, Height: 66, Channels: 3\n",
    "            layers.InputLayer(shape=(66, 200, 3)),\n",
    "            layers.Conv2D(24, kernel_size=5, strides=2, padding='valid'),\n",
    "            layers.BatchNormalization(),\n",
    "            layers.ReLU(),\n",
    "\n",
    "            # Second convolutional layer\n",
    "            layers.Conv2D(36, kernel_size=5, strides=2, padding='valid'),\n",
    "            layers.BatchNormalization(),\n",
    "            layers.ReLU(),\n",
    "\n",
    "            # Third convolutional layer\n",
    "            layers.Conv2D(48, kernel_size=5, strides=2, padding='valid'),\n",
    "            layers.BatchNormalization(),\n",
    "            layers.ReLU(),\n",
    "\n",
    "            # Fourth convolutional layer\n",
    "            layers.Conv2D(64, kernel_size=3, strides=1, padding='valid'),\n",
    "            layers.BatchNormalization(),\n",
    "            layers.ReLU(),\n",
    "\n",
    "            # Fifth convolutional layer\n",
    "            layers.Conv2D(64, kernel_size=3, strides=1, padding='valid'),\n",
    "            layers.BatchNormalization(),\n",
    "            layers.ReLU(),\n",
    "        ])\n",
    "\n",
    "        # Flat and fully connected layers\n",
    "        self.flat_layers = tf.keras.Sequential([\n",
    "            # Flatten\n",
    "            layers.Flatten(),\n",
    "            layers.Dropout(0.5),\n",
    "\n",
    "            # First fully connected layer\n",
    "            layers.Dense(1164),\n",
    "            layers.BatchNormalization(),\n",
    "            layers.ReLU(),\n",
    "\n",
    "            # Second fully connected layer\n",
    "            layers.Dense(100),\n",
    "            layers.BatchNormalization(),\n",
    "            layers.ReLU(),\n",
    "\n",
    "            # Third fully connected layer\n",
    "            layers.Dense(50),\n",
    "            layers.BatchNormalization(),\n",
    "            layers.ReLU(),\n",
    "\n",
    "            # Fourth fully connected layer\n",
    "            layers.Dense(10),\n",
    "            layers.ReLU(),  # Assuming a ReLU here for consistency with the PyTorch model\n",
    "\n",
    "            # Output layer\n",
    "            layers.Dense(1)\n",
    "        ])\n",
    "\n",
    "    def call(self, inputs):\n",
    "        x = self.conv_layers(inputs)\n",
    "        y = self.flat_layers(x)\n",
    "        return y\n"
   ]
  },
  {
   "cell_type": "code",
   "execution_count": 4,
   "id": "5a57f2b9-5c89-47a6-baf9-1979820419f5",
   "metadata": {},
   "outputs": [],
   "source": [
    "def _parse_function(example_proto):\n",
    "    # Define the feature description for parsing\n",
    "    feature_description = {\n",
    "        'steering': tf.io.FixedLenFeature([], tf.float32),\n",
    "        'image': tf.io.FixedLenFeature([], tf.string),\n",
    "    }\n",
    "    # Parse the input tf.train.Example proto using the dictionary above\n",
    "    parsed_features = tf.io.parse_single_example(example_proto, feature_description)\n",
    "    \n",
    "    # Decode the image\n",
    "    image = tf.image.decode_jpeg(parsed_features['image'], channels=3)\n",
    "\n",
    "    # Resize the image\n",
    "    image_resized = tf.image.resize(image, [66, 200])  # Height x Width\n",
    "    \n",
    "    # Convert the image to YUV color space\n",
    "    image_yuv = tf.image.rgb_to_yuv(image_resized)\n",
    "    \n",
    "    # Normalize the image data to [0, 1] (optional)\n",
    "    image_normalized = image_yuv / 255.0\n",
    "\n",
    "    return image_normalized, parsed_features['steering']\n"
   ]
  },
  {
   "cell_type": "code",
   "execution_count": 5,
   "id": "225181b6-1fcd-482f-b7b2-57a2a0d9870b",
   "metadata": {},
   "outputs": [
    {
     "name": "stderr",
     "output_type": "stream",
     "text": [
      "2024-04-03 00:51:21.701060: I external/local_xla/xla/stream_executor/cuda/cuda_executor.cc:998] successful NUMA node read from SysFS had negative value (-1), but there must be at least one NUMA node, so returning NUMA node zero. See more at https://github.com/torvalds/linux/blob/v6.0/Documentation/ABI/testing/sysfs-bus-pci#L344-L355\n",
      "2024-04-03 00:51:21.728306: I external/local_xla/xla/stream_executor/cuda/cuda_executor.cc:998] successful NUMA node read from SysFS had negative value (-1), but there must be at least one NUMA node, so returning NUMA node zero. See more at https://github.com/torvalds/linux/blob/v6.0/Documentation/ABI/testing/sysfs-bus-pci#L344-L355\n",
      "2024-04-03 00:51:21.728425: I external/local_xla/xla/stream_executor/cuda/cuda_executor.cc:998] successful NUMA node read from SysFS had negative value (-1), but there must be at least one NUMA node, so returning NUMA node zero. See more at https://github.com/torvalds/linux/blob/v6.0/Documentation/ABI/testing/sysfs-bus-pci#L344-L355\n",
      "2024-04-03 00:51:21.729638: I external/local_xla/xla/stream_executor/cuda/cuda_executor.cc:998] successful NUMA node read from SysFS had negative value (-1), but there must be at least one NUMA node, so returning NUMA node zero. See more at https://github.com/torvalds/linux/blob/v6.0/Documentation/ABI/testing/sysfs-bus-pci#L344-L355\n",
      "2024-04-03 00:51:21.729791: I external/local_xla/xla/stream_executor/cuda/cuda_executor.cc:998] successful NUMA node read from SysFS had negative value (-1), but there must be at least one NUMA node, so returning NUMA node zero. See more at https://github.com/torvalds/linux/blob/v6.0/Documentation/ABI/testing/sysfs-bus-pci#L344-L355\n",
      "2024-04-03 00:51:21.729875: I external/local_xla/xla/stream_executor/cuda/cuda_executor.cc:998] successful NUMA node read from SysFS had negative value (-1), but there must be at least one NUMA node, so returning NUMA node zero. See more at https://github.com/torvalds/linux/blob/v6.0/Documentation/ABI/testing/sysfs-bus-pci#L344-L355\n",
      "2024-04-03 00:51:21.782437: I external/local_xla/xla/stream_executor/cuda/cuda_executor.cc:998] successful NUMA node read from SysFS had negative value (-1), but there must be at least one NUMA node, so returning NUMA node zero. See more at https://github.com/torvalds/linux/blob/v6.0/Documentation/ABI/testing/sysfs-bus-pci#L344-L355\n",
      "2024-04-03 00:51:21.782541: I external/local_xla/xla/stream_executor/cuda/cuda_executor.cc:998] successful NUMA node read from SysFS had negative value (-1), but there must be at least one NUMA node, so returning NUMA node zero. See more at https://github.com/torvalds/linux/blob/v6.0/Documentation/ABI/testing/sysfs-bus-pci#L344-L355\n",
      "2024-04-03 00:51:21.782599: I external/local_xla/xla/stream_executor/cuda/cuda_executor.cc:998] successful NUMA node read from SysFS had negative value (-1), but there must be at least one NUMA node, so returning NUMA node zero. See more at https://github.com/torvalds/linux/blob/v6.0/Documentation/ABI/testing/sysfs-bus-pci#L344-L355\n",
      "2024-04-03 00:51:21.782647: I tensorflow/core/common_runtime/gpu/gpu_device.cc:1928] Created device /job:localhost/replica:0/task:0/device:GPU:0 with 10078 MB memory:  -> device: 0, name: NVIDIA GeForce RTX 4070, pci bus id: 0000:01:00.0, compute capability: 8.9\n"
     ]
    }
   ],
   "source": [
    "# Assuming you have already defined the EndToEndModel class\n",
    "\n",
    "# Step 2: Create a TFRecord Dataset\n",
    "file_paths = [\"datasets/dataset_2024-04-03T06-00-42.tfrecord\"]  # Update this to your TFRecord file path(s)\n",
    "dataset = tf.data.TFRecordDataset(file_paths)\n",
    "\n",
    "# Step 3: Map the Parsing Function to the Dataset\n",
    "dataset = dataset.map(_parse_function)\n",
    "\n",
    "# Step 4: Prepare the Dataset for Training\n",
    "dataset = (\n",
    "    dataset\n",
    "    .shuffle(1000)\n",
    "    .batch(32, drop_remainder=True)\n",
    "    .prefetch(tf.data.experimental.AUTOTUNE)\n",
    ")\n"
   ]
  },
  {
   "cell_type": "code",
   "execution_count": 6,
   "id": "8560ae38-feac-4d97-bdaa-8e5fafa677db",
   "metadata": {},
   "outputs": [],
   "source": [
    "# Initialize your model\n",
    "model = EndToEndModel()\n",
    "\n",
    "# Compile the model (make sure to specify the loss and optimizer)\n",
    "model.compile(optimizer='adam', loss='mean_squared_error')\n",
    "\n"
   ]
  },
  {
   "cell_type": "code",
   "execution_count": null,
   "id": "436ef8b8-65de-4fae-8c86-95feb3d596ec",
   "metadata": {},
   "outputs": [
    {
     "name": "stdout",
     "output_type": "stream",
     "text": [
      "Epoch 1/10\n"
     ]
    },
    {
     "name": "stderr",
     "output_type": "stream",
     "text": [
      "WARNING: All log messages before absl::InitializeLog() is called are written to STDERR\n",
      "I0000 00:00:1712130685.926110   72505 service.cc:145] XLA service 0x77453c01b6b0 initialized for platform CUDA (this does not guarantee that XLA will be used). Devices:\n",
      "I0000 00:00:1712130685.926178   72505 service.cc:153]   StreamExecutor device (0): NVIDIA GeForce RTX 4070, Compute Capability 8.9\n",
      "2024-04-03 00:51:25.972030: I tensorflow/compiler/mlir/tensorflow/utils/dump_mlir_util.cc:268] disabling MLIR crash reproducer, set env var `MLIR_CRASH_REPRODUCER_DIRECTORY` to enable.\n"
     ]
    }
   ],
   "source": [
    "# Step 5: Train the Model\n",
    "model.fit(dataset, epochs=10)"
   ]
  },
  {
   "cell_type": "code",
   "execution_count": 1,
   "id": "630138ab-5de5-4ed1-bf62-60bf1e3fef2a",
   "metadata": {},
   "outputs": [
    {
     "ename": "NameError",
     "evalue": "name 'tf' is not defined",
     "output_type": "error",
     "traceback": [
      "\u001b[0;31m---------------------------------------------------------------------------\u001b[0m",
      "\u001b[0;31mNameError\u001b[0m                                 Traceback (most recent call last)",
      "Cell \u001b[0;32mIn[1], line 1\u001b[0m\n\u001b[0;32m----> 1\u001b[0m \u001b[38;5;28mprint\u001b[39m(\u001b[38;5;124m\"\u001b[39m\u001b[38;5;124mNum GPUs Available: \u001b[39m\u001b[38;5;124m\"\u001b[39m, \u001b[38;5;28mlen\u001b[39m(\u001b[43mtf\u001b[49m\u001b[38;5;241m.\u001b[39mconfig\u001b[38;5;241m.\u001b[39mlist_physical_devices(\u001b[38;5;124m'\u001b[39m\u001b[38;5;124mGPU\u001b[39m\u001b[38;5;124m'\u001b[39m)))\n",
      "\u001b[0;31mNameError\u001b[0m: name 'tf' is not defined"
     ]
    }
   ],
   "source": [
    "\n",
    "print(\"Num GPUs Available: \", len(tf.config.list_physical_devices('GPU')))"
   ]
  },
  {
   "cell_type": "code",
   "execution_count": null,
   "id": "41788723-3c01-4aa5-83db-db6e931165c0",
   "metadata": {},
   "outputs": [],
   "source": []
  }
 ],
 "metadata": {
  "kernelspec": {
   "display_name": "Python 3 (ipykernel)",
   "language": "python",
   "name": "python3"
  },
  "language_info": {
   "codemirror_mode": {
    "name": "ipython",
    "version": 3
   },
   "file_extension": ".py",
   "mimetype": "text/x-python",
   "name": "python",
   "nbconvert_exporter": "python",
   "pygments_lexer": "ipython3",
   "version": "3.12.2"
  }
 },
 "nbformat": 4,
 "nbformat_minor": 5
}
